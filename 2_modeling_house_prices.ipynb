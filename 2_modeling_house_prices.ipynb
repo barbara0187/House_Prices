{
 "cells": [
  {
   "cell_type": "markdown",
   "id": "580f6da0",
   "metadata": {},
   "source": [
    "# Modeling house prices"
   ]
  },
  {
   "cell_type": "markdown",
   "id": "ea52d6d0",
   "metadata": {},
   "source": [
    "In this notebook, we model our data with two diferent models, RandomForestRegressor and XGBRegressor, and compare them."
   ]
  },
  {
   "cell_type": "code",
   "execution_count": 1,
   "id": "cd1698a9",
   "metadata": {},
   "outputs": [],
   "source": [
    "from matplotlib import pyplot as plt\n",
    "import pandas as pd\n",
    "#import pylab as pl\n",
    "import numpy as np\n",
    "\n",
    "from sklearn import linear_model\n",
    "\n",
    "from sklearn.metrics import r2_score, mean_squared_error,mean_absolute_error\n",
    "\n",
    "\n",
    "from sklearn.model_selection import RepeatedKFold\n",
    "from math import sqrt\n",
    "from numpy import random\n",
    "#from scipy import stats as stats\n",
    "\n",
    "from sklearn import preprocessing\n",
    "from sklearn.feature_selection import SelectKBest\n",
    "from sklearn.feature_selection import chi2\n",
    "\n",
    "\n",
    "from sklearn.linear_model import LinearRegression\n",
    "from sklearn.ensemble import RandomForestRegressor\n",
    "from xgboost import XGBRegressor\n",
    "\n",
    "from sklearn.pipeline import Pipeline\n",
    "from sklearn.preprocessing import MinMaxScaler\n",
    "\n",
    "from sklearn.model_selection import RandomizedSearchCV\n",
    "from sklearn.model_selection import KFold\n",
    "\n",
    "from sklearn.model_selection import train_test_split\n",
    "from sklearn.model_selection import cross_validate\n",
    "\n",
    "from sklearn.feature_selection import SelectFromModel"
   ]
  },
  {
   "cell_type": "markdown",
   "id": "3a486ced",
   "metadata": {},
   "source": [
    "# Import data"
   ]
  },
  {
   "cell_type": "markdown",
   "id": "f738021d",
   "metadata": {},
   "source": [
    "Here, we import the data that was prepared in the last notebook."
   ]
  },
  {
   "cell_type": "code",
   "execution_count": 2,
   "id": "58f9269f",
   "metadata": {},
   "outputs": [],
   "source": [
    "X=pd.read_csv('X')\n",
    "y=pd.read_csv('y')\n",
    "X_test=pd.read_csv('X_test')"
   ]
  },
  {
   "cell_type": "markdown",
   "id": "215dbca1",
   "metadata": {},
   "source": [
    "Then we split the data in to train and validation sets."
   ]
  },
  {
   "cell_type": "code",
   "execution_count": 3,
   "id": "f95a6c05",
   "metadata": {},
   "outputs": [],
   "source": [
    "SEED= 0\n",
    "random.seed(SEED)\n",
    "\n",
    "X_train, X_valid, y_train, y_valid = train_test_split(X, y, test_size = 0.2)"
   ]
  },
  {
   "cell_type": "markdown",
   "id": "ec875143",
   "metadata": {},
   "source": [
    "# Random Forest model"
   ]
  },
  {
   "cell_type": "markdown",
   "id": "e1e5f8f1",
   "metadata": {},
   "source": [
    "Now we need to model our data with some kind of regression. First we try the random forest regressor model that is a robust model that doesn't require feature slection or scaling. For a quick result let's first a train and validation sets obtained by train_test_split."
   ]
  },
  {
   "cell_type": "code",
   "execution_count": 4,
   "id": "5e522f98",
   "metadata": {},
   "outputs": [
    {
     "name": "stdout",
     "output_type": "stream",
     "text": [
      "The accuracy of our model is 85.0%\n",
      "Square Root of Mean Squared Error (MSE): 32609.166470683933\n"
     ]
    }
   ],
   "source": [
    "model = RandomForestRegressor(n_estimators=300, min_samples_leaf=1, n_jobs=-1, criterion='absolute_error', random_state=0)\n",
    "model.fit(X_train, y_train.values.ravel())\n",
    "predictions = model.predict(X_valid)\n",
    "\n",
    "\n",
    "score2 = r2_score(y_valid, predictions)\n",
    "print(\"The accuracy of our model is {}%\".format(round(score2, 2) *100))\n",
    "print('Square Root of Mean Squared Error (MSE):', mean_squared_error(y_valid, predictions)**0.5)"
   ]
  },
  {
   "cell_type": "markdown",
   "id": "04994996",
   "metadata": {},
   "source": [
    "## Cross validation analysis for Random Forest model"
   ]
  },
  {
   "cell_type": "markdown",
   "id": "adf23a4b",
   "metadata": {},
   "source": [
    "When we use the train_test_split(), we split our data in just one way. Therefore the result will be influenced by this choice. In order to correct this problem, we will use the kfold method that will generate diferent trains and test sets.\n",
    "\n",
    "Furthermore, in order to optimize our model, we use a randomized search to estimate the best parameters."
   ]
  },
  {
   "cell_type": "code",
   "execution_count": 5,
   "id": "e887bacf",
   "metadata": {},
   "outputs": [
    {
     "data": {
      "text/html": [
       "<div>\n",
       "<style scoped>\n",
       "    .dataframe tbody tr th:only-of-type {\n",
       "        vertical-align: middle;\n",
       "    }\n",
       "\n",
       "    .dataframe tbody tr th {\n",
       "        vertical-align: top;\n",
       "    }\n",
       "\n",
       "    .dataframe thead th {\n",
       "        text-align: right;\n",
       "    }\n",
       "</style>\n",
       "<table border=\"1\" class=\"dataframe\">\n",
       "  <thead>\n",
       "    <tr style=\"text-align: right;\">\n",
       "      <th></th>\n",
       "      <th>mean_fit_time</th>\n",
       "      <th>std_fit_time</th>\n",
       "      <th>mean_score_time</th>\n",
       "      <th>std_score_time</th>\n",
       "      <th>param_n_jobs</th>\n",
       "      <th>param_n_estimators</th>\n",
       "      <th>param_min_samples_leaf</th>\n",
       "      <th>param_bootstrap</th>\n",
       "      <th>params</th>\n",
       "      <th>split0_test_score</th>\n",
       "      <th>...</th>\n",
       "      <th>split3_test_score</th>\n",
       "      <th>split4_test_score</th>\n",
       "      <th>split5_test_score</th>\n",
       "      <th>split6_test_score</th>\n",
       "      <th>split7_test_score</th>\n",
       "      <th>split8_test_score</th>\n",
       "      <th>split9_test_score</th>\n",
       "      <th>mean_test_score</th>\n",
       "      <th>std_test_score</th>\n",
       "      <th>rank_test_score</th>\n",
       "    </tr>\n",
       "  </thead>\n",
       "  <tbody>\n",
       "    <tr>\n",
       "      <th>0</th>\n",
       "      <td>4.874007</td>\n",
       "      <td>0.620030</td>\n",
       "      <td>0.042301</td>\n",
       "      <td>0.009151</td>\n",
       "      <td>-1</td>\n",
       "      <td>200</td>\n",
       "      <td>1</td>\n",
       "      <td>False</td>\n",
       "      <td>{'n_jobs': -1, 'n_estimators': 200, 'min_sampl...</td>\n",
       "      <td>0.674091</td>\n",
       "      <td>...</td>\n",
       "      <td>0.605937</td>\n",
       "      <td>0.769375</td>\n",
       "      <td>0.748209</td>\n",
       "      <td>0.748716</td>\n",
       "      <td>0.789028</td>\n",
       "      <td>0.842214</td>\n",
       "      <td>0.753493</td>\n",
       "      <td>0.726958</td>\n",
       "      <td>0.069806</td>\n",
       "      <td>14</td>\n",
       "    </tr>\n",
       "    <tr>\n",
       "      <th>1</th>\n",
       "      <td>1.207811</td>\n",
       "      <td>0.070562</td>\n",
       "      <td>0.016749</td>\n",
       "      <td>0.003105</td>\n",
       "      <td>-1</td>\n",
       "      <td>50</td>\n",
       "      <td>1</td>\n",
       "      <td>False</td>\n",
       "      <td>{'n_jobs': -1, 'n_estimators': 50, 'min_sample...</td>\n",
       "      <td>0.728395</td>\n",
       "      <td>...</td>\n",
       "      <td>0.595029</td>\n",
       "      <td>0.779399</td>\n",
       "      <td>0.747285</td>\n",
       "      <td>0.747771</td>\n",
       "      <td>0.790695</td>\n",
       "      <td>0.843079</td>\n",
       "      <td>0.759461</td>\n",
       "      <td>0.731981</td>\n",
       "      <td>0.072529</td>\n",
       "      <td>13</td>\n",
       "    </tr>\n",
       "    <tr>\n",
       "      <th>2</th>\n",
       "      <td>1.437687</td>\n",
       "      <td>0.073220</td>\n",
       "      <td>0.022536</td>\n",
       "      <td>0.002781</td>\n",
       "      <td>-1</td>\n",
       "      <td>100</td>\n",
       "      <td>4</td>\n",
       "      <td>False</td>\n",
       "      <td>{'n_jobs': -1, 'n_estimators': 100, 'min_sampl...</td>\n",
       "      <td>0.592751</td>\n",
       "      <td>...</td>\n",
       "      <td>0.594053</td>\n",
       "      <td>0.600902</td>\n",
       "      <td>0.754432</td>\n",
       "      <td>0.755361</td>\n",
       "      <td>0.817732</td>\n",
       "      <td>0.825108</td>\n",
       "      <td>0.763688</td>\n",
       "      <td>0.706145</td>\n",
       "      <td>0.097671</td>\n",
       "      <td>15</td>\n",
       "    </tr>\n",
       "    <tr>\n",
       "      <th>3</th>\n",
       "      <td>0.523662</td>\n",
       "      <td>0.003473</td>\n",
       "      <td>0.016317</td>\n",
       "      <td>0.003550</td>\n",
       "      <td>-1</td>\n",
       "      <td>50</td>\n",
       "      <td>4</td>\n",
       "      <td>True</td>\n",
       "      <td>{'n_jobs': -1, 'n_estimators': 50, 'min_sample...</td>\n",
       "      <td>0.827010</td>\n",
       "      <td>...</td>\n",
       "      <td>0.871283</td>\n",
       "      <td>0.771960</td>\n",
       "      <td>0.913901</td>\n",
       "      <td>0.865310</td>\n",
       "      <td>0.846454</td>\n",
       "      <td>0.866505</td>\n",
       "      <td>0.890038</td>\n",
       "      <td>0.848279</td>\n",
       "      <td>0.048624</td>\n",
       "      <td>2</td>\n",
       "    </tr>\n",
       "    <tr>\n",
       "      <th>4</th>\n",
       "      <td>1.400132</td>\n",
       "      <td>0.007517</td>\n",
       "      <td>0.036546</td>\n",
       "      <td>0.003224</td>\n",
       "      <td>-1</td>\n",
       "      <td>200</td>\n",
       "      <td>8</td>\n",
       "      <td>True</td>\n",
       "      <td>{'n_jobs': -1, 'n_estimators': 200, 'min_sampl...</td>\n",
       "      <td>0.839225</td>\n",
       "      <td>...</td>\n",
       "      <td>0.858819</td>\n",
       "      <td>0.773061</td>\n",
       "      <td>0.906319</td>\n",
       "      <td>0.854013</td>\n",
       "      <td>0.814119</td>\n",
       "      <td>0.867496</td>\n",
       "      <td>0.883276</td>\n",
       "      <td>0.843836</td>\n",
       "      <td>0.045159</td>\n",
       "      <td>3</td>\n",
       "    </tr>\n",
       "  </tbody>\n",
       "</table>\n",
       "<p>5 rows × 22 columns</p>\n",
       "</div>"
      ],
      "text/plain": [
       "   mean_fit_time  std_fit_time  mean_score_time  std_score_time param_n_jobs  \\\n",
       "0       4.874007      0.620030         0.042301        0.009151           -1   \n",
       "1       1.207811      0.070562         0.016749        0.003105           -1   \n",
       "2       1.437687      0.073220         0.022536        0.002781           -1   \n",
       "3       0.523662      0.003473         0.016317        0.003550           -1   \n",
       "4       1.400132      0.007517         0.036546        0.003224           -1   \n",
       "\n",
       "  param_n_estimators param_min_samples_leaf param_bootstrap  \\\n",
       "0                200                      1           False   \n",
       "1                 50                      1           False   \n",
       "2                100                      4           False   \n",
       "3                 50                      4            True   \n",
       "4                200                      8            True   \n",
       "\n",
       "                                              params  split0_test_score  ...  \\\n",
       "0  {'n_jobs': -1, 'n_estimators': 200, 'min_sampl...           0.674091  ...   \n",
       "1  {'n_jobs': -1, 'n_estimators': 50, 'min_sample...           0.728395  ...   \n",
       "2  {'n_jobs': -1, 'n_estimators': 100, 'min_sampl...           0.592751  ...   \n",
       "3  {'n_jobs': -1, 'n_estimators': 50, 'min_sample...           0.827010  ...   \n",
       "4  {'n_jobs': -1, 'n_estimators': 200, 'min_sampl...           0.839225  ...   \n",
       "\n",
       "   split3_test_score  split4_test_score  split5_test_score  split6_test_score  \\\n",
       "0           0.605937           0.769375           0.748209           0.748716   \n",
       "1           0.595029           0.779399           0.747285           0.747771   \n",
       "2           0.594053           0.600902           0.754432           0.755361   \n",
       "3           0.871283           0.771960           0.913901           0.865310   \n",
       "4           0.858819           0.773061           0.906319           0.854013   \n",
       "\n",
       "   split7_test_score  split8_test_score  split9_test_score  mean_test_score  \\\n",
       "0           0.789028           0.842214           0.753493         0.726958   \n",
       "1           0.790695           0.843079           0.759461         0.731981   \n",
       "2           0.817732           0.825108           0.763688         0.706145   \n",
       "3           0.846454           0.866505           0.890038         0.848279   \n",
       "4           0.814119           0.867496           0.883276         0.843836   \n",
       "\n",
       "   std_test_score  rank_test_score  \n",
       "0        0.069806               14  \n",
       "1        0.072529               13  \n",
       "2        0.097671               15  \n",
       "3        0.048624                2  \n",
       "4        0.045159                3  \n",
       "\n",
       "[5 rows x 22 columns]"
      ]
     },
     "execution_count": 5,
     "metadata": {},
     "output_type": "execute_result"
    }
   ],
   "source": [
    "SEED =0\n",
    "np.random.seed(SEED)\n",
    "\n",
    "model = RandomForestRegressor()\n",
    "\n",
    "# Define the grid of hyperparameters to search\n",
    "espaço_de_parametros = {'bootstrap': [True, False],\n",
    "                        'n_estimators': [50, 100, 200, 300],\n",
    "                        'n_jobs': [-1],\n",
    "                        'min_samples_leaf': [1, 4, 8, 16, 32]\n",
    "                        }\n",
    "\n",
    "# Set up the random search\n",
    "busca = RandomizedSearchCV(estimator=model,\n",
    "                    param_distributions=espaço_de_parametros,\n",
    "                    cv=KFold(n_splits=10, shuffle = True),\n",
    "                    n_iter=16,\n",
    "                    random_state=SEED)\n",
    "busca.fit(X,y.values.ravel())\n",
    "resultados=pd.DataFrame(busca.cv_results_)\n",
    "resultados.head()"
   ]
  },
  {
   "cell_type": "markdown",
   "id": "5681956b",
   "metadata": {},
   "source": [
    "After the search we select the best parameters for our model."
   ]
  },
  {
   "cell_type": "code",
   "execution_count": 6,
   "id": "8e5e0ef6",
   "metadata": {},
   "outputs": [
    {
     "data": {
      "text/html": [
       "<style>#sk-container-id-1 {color: black;}#sk-container-id-1 pre{padding: 0;}#sk-container-id-1 div.sk-toggleable {background-color: white;}#sk-container-id-1 label.sk-toggleable__label {cursor: pointer;display: block;width: 100%;margin-bottom: 0;padding: 0.3em;box-sizing: border-box;text-align: center;}#sk-container-id-1 label.sk-toggleable__label-arrow:before {content: \"▸\";float: left;margin-right: 0.25em;color: #696969;}#sk-container-id-1 label.sk-toggleable__label-arrow:hover:before {color: black;}#sk-container-id-1 div.sk-estimator:hover label.sk-toggleable__label-arrow:before {color: black;}#sk-container-id-1 div.sk-toggleable__content {max-height: 0;max-width: 0;overflow: hidden;text-align: left;background-color: #f0f8ff;}#sk-container-id-1 div.sk-toggleable__content pre {margin: 0.2em;color: black;border-radius: 0.25em;background-color: #f0f8ff;}#sk-container-id-1 input.sk-toggleable__control:checked~div.sk-toggleable__content {max-height: 200px;max-width: 100%;overflow: auto;}#sk-container-id-1 input.sk-toggleable__control:checked~label.sk-toggleable__label-arrow:before {content: \"▾\";}#sk-container-id-1 div.sk-estimator input.sk-toggleable__control:checked~label.sk-toggleable__label {background-color: #d4ebff;}#sk-container-id-1 div.sk-label input.sk-toggleable__control:checked~label.sk-toggleable__label {background-color: #d4ebff;}#sk-container-id-1 input.sk-hidden--visually {border: 0;clip: rect(1px 1px 1px 1px);clip: rect(1px, 1px, 1px, 1px);height: 1px;margin: -1px;overflow: hidden;padding: 0;position: absolute;width: 1px;}#sk-container-id-1 div.sk-estimator {font-family: monospace;background-color: #f0f8ff;border: 1px dotted black;border-radius: 0.25em;box-sizing: border-box;margin-bottom: 0.5em;}#sk-container-id-1 div.sk-estimator:hover {background-color: #d4ebff;}#sk-container-id-1 div.sk-parallel-item::after {content: \"\";width: 100%;border-bottom: 1px solid gray;flex-grow: 1;}#sk-container-id-1 div.sk-label:hover label.sk-toggleable__label {background-color: #d4ebff;}#sk-container-id-1 div.sk-serial::before {content: \"\";position: absolute;border-left: 1px solid gray;box-sizing: border-box;top: 0;bottom: 0;left: 50%;z-index: 0;}#sk-container-id-1 div.sk-serial {display: flex;flex-direction: column;align-items: center;background-color: white;padding-right: 0.2em;padding-left: 0.2em;position: relative;}#sk-container-id-1 div.sk-item {position: relative;z-index: 1;}#sk-container-id-1 div.sk-parallel {display: flex;align-items: stretch;justify-content: center;background-color: white;position: relative;}#sk-container-id-1 div.sk-item::before, #sk-container-id-1 div.sk-parallel-item::before {content: \"\";position: absolute;border-left: 1px solid gray;box-sizing: border-box;top: 0;bottom: 0;left: 50%;z-index: -1;}#sk-container-id-1 div.sk-parallel-item {display: flex;flex-direction: column;z-index: 1;position: relative;background-color: white;}#sk-container-id-1 div.sk-parallel-item:first-child::after {align-self: flex-end;width: 50%;}#sk-container-id-1 div.sk-parallel-item:last-child::after {align-self: flex-start;width: 50%;}#sk-container-id-1 div.sk-parallel-item:only-child::after {width: 0;}#sk-container-id-1 div.sk-dashed-wrapped {border: 1px dashed gray;margin: 0 0.4em 0.5em 0.4em;box-sizing: border-box;padding-bottom: 0.4em;background-color: white;}#sk-container-id-1 div.sk-label label {font-family: monospace;font-weight: bold;display: inline-block;line-height: 1.2em;}#sk-container-id-1 div.sk-label-container {text-align: center;}#sk-container-id-1 div.sk-container {/* jupyter's `normalize.less` sets `[hidden] { display: none; }` but bootstrap.min.css set `[hidden] { display: none !important; }` so we also need the `!important` here to be able to override the default hidden behavior on the sphinx rendered scikit-learn.org. See: https://github.com/scikit-learn/scikit-learn/issues/21755 */display: inline-block !important;position: relative;}#sk-container-id-1 div.sk-text-repr-fallback {display: none;}</style><div id=\"sk-container-id-1\" class=\"sk-top-container\"><div class=\"sk-text-repr-fallback\"><pre>RandomForestRegressor(n_estimators=200, n_jobs=-1)</pre><b>In a Jupyter environment, please rerun this cell to show the HTML representation or trust the notebook. <br />On GitHub, the HTML representation is unable to render, please try loading this page with nbviewer.org.</b></div><div class=\"sk-container\" hidden><div class=\"sk-item\"><div class=\"sk-estimator sk-toggleable\"><input class=\"sk-toggleable__control sk-hidden--visually\" id=\"sk-estimator-id-1\" type=\"checkbox\" checked><label for=\"sk-estimator-id-1\" class=\"sk-toggleable__label sk-toggleable__label-arrow\">RandomForestRegressor</label><div class=\"sk-toggleable__content\"><pre>RandomForestRegressor(n_estimators=200, n_jobs=-1)</pre></div></div></div></div></div>"
      ],
      "text/plain": [
       "RandomForestRegressor(n_estimators=200, n_jobs=-1)"
      ]
     },
     "execution_count": 6,
     "metadata": {},
     "output_type": "execute_result"
    }
   ],
   "source": [
    "melhor = busca.best_estimator_\n",
    "melhor"
   ]
  },
  {
   "cell_type": "markdown",
   "id": "4fd18dba",
   "metadata": {},
   "source": [
    "Then we define a function that returns the mean, maximum and minimum estimator performance. In this way we can compare the performance of differnt models."
   ]
  },
  {
   "cell_type": "code",
   "execution_count": 7,
   "id": "36a28be4",
   "metadata": {},
   "outputs": [],
   "source": [
    "def imprime_resultados(results):\n",
    "    media = results['test_score'].mean() * 100\n",
    "    minimum = results['test_score'].min() * 100\n",
    "    maximum = results['test_score'].max() * 100\n",
    "    print(\"Accuracy médio %.2f\" % media)\n",
    "    print(\"Intervalo [%.2f, %.2f]\" % (minimum, maximum))"
   ]
  },
  {
   "cell_type": "markdown",
   "id": "6203d165",
   "metadata": {},
   "source": [
    "And finaly we aply the function imprime_results to see the mean, maximum and minimum performance of the best estimator."
   ]
  },
  {
   "cell_type": "code",
   "execution_count": 8,
   "id": "d37ff0a9",
   "metadata": {},
   "outputs": [
    {
     "name": "stdout",
     "output_type": "stream",
     "text": [
      "Accuracy médio 84.10\n",
      "Intervalo [66.22, 90.76]\n"
     ]
    }
   ],
   "source": [
    "model = RandomForestRegressor(n_estimators=200, n_jobs=-1)\n",
    "\n",
    "cv = KFold(n_splits=10, shuffle = True)\n",
    "results = cross_validate(model, X, y.values.ravel(), cv = cv)\n",
    "imprime_resultados(results)\n"
   ]
  },
  {
   "cell_type": "code",
   "execution_count": null,
   "id": "2f99696d",
   "metadata": {},
   "outputs": [],
   "source": []
  },
  {
   "cell_type": "markdown",
   "id": "31851431",
   "metadata": {},
   "source": [
    "# Random Forest Test"
   ]
  },
  {
   "cell_type": "markdown",
   "id": "2bc30ca7",
   "metadata": {},
   "source": [
    "Here we retrain our best model with the full dataset since more data tends to improve the model. \n",
    "\n",
    "Then, we use this model to estimate the prices of the houses in the test set. \n",
    "\n",
    "By submiting this results to the kaggle site and get the position 1135 from a total of 3975. "
   ]
  },
  {
   "cell_type": "code",
   "execution_count": 9,
   "id": "ec51447c",
   "metadata": {},
   "outputs": [
    {
     "data": {
      "text/html": [
       "<style>#sk-container-id-2 {color: black;}#sk-container-id-2 pre{padding: 0;}#sk-container-id-2 div.sk-toggleable {background-color: white;}#sk-container-id-2 label.sk-toggleable__label {cursor: pointer;display: block;width: 100%;margin-bottom: 0;padding: 0.3em;box-sizing: border-box;text-align: center;}#sk-container-id-2 label.sk-toggleable__label-arrow:before {content: \"▸\";float: left;margin-right: 0.25em;color: #696969;}#sk-container-id-2 label.sk-toggleable__label-arrow:hover:before {color: black;}#sk-container-id-2 div.sk-estimator:hover label.sk-toggleable__label-arrow:before {color: black;}#sk-container-id-2 div.sk-toggleable__content {max-height: 0;max-width: 0;overflow: hidden;text-align: left;background-color: #f0f8ff;}#sk-container-id-2 div.sk-toggleable__content pre {margin: 0.2em;color: black;border-radius: 0.25em;background-color: #f0f8ff;}#sk-container-id-2 input.sk-toggleable__control:checked~div.sk-toggleable__content {max-height: 200px;max-width: 100%;overflow: auto;}#sk-container-id-2 input.sk-toggleable__control:checked~label.sk-toggleable__label-arrow:before {content: \"▾\";}#sk-container-id-2 div.sk-estimator input.sk-toggleable__control:checked~label.sk-toggleable__label {background-color: #d4ebff;}#sk-container-id-2 div.sk-label input.sk-toggleable__control:checked~label.sk-toggleable__label {background-color: #d4ebff;}#sk-container-id-2 input.sk-hidden--visually {border: 0;clip: rect(1px 1px 1px 1px);clip: rect(1px, 1px, 1px, 1px);height: 1px;margin: -1px;overflow: hidden;padding: 0;position: absolute;width: 1px;}#sk-container-id-2 div.sk-estimator {font-family: monospace;background-color: #f0f8ff;border: 1px dotted black;border-radius: 0.25em;box-sizing: border-box;margin-bottom: 0.5em;}#sk-container-id-2 div.sk-estimator:hover {background-color: #d4ebff;}#sk-container-id-2 div.sk-parallel-item::after {content: \"\";width: 100%;border-bottom: 1px solid gray;flex-grow: 1;}#sk-container-id-2 div.sk-label:hover label.sk-toggleable__label {background-color: #d4ebff;}#sk-container-id-2 div.sk-serial::before {content: \"\";position: absolute;border-left: 1px solid gray;box-sizing: border-box;top: 0;bottom: 0;left: 50%;z-index: 0;}#sk-container-id-2 div.sk-serial {display: flex;flex-direction: column;align-items: center;background-color: white;padding-right: 0.2em;padding-left: 0.2em;position: relative;}#sk-container-id-2 div.sk-item {position: relative;z-index: 1;}#sk-container-id-2 div.sk-parallel {display: flex;align-items: stretch;justify-content: center;background-color: white;position: relative;}#sk-container-id-2 div.sk-item::before, #sk-container-id-2 div.sk-parallel-item::before {content: \"\";position: absolute;border-left: 1px solid gray;box-sizing: border-box;top: 0;bottom: 0;left: 50%;z-index: -1;}#sk-container-id-2 div.sk-parallel-item {display: flex;flex-direction: column;z-index: 1;position: relative;background-color: white;}#sk-container-id-2 div.sk-parallel-item:first-child::after {align-self: flex-end;width: 50%;}#sk-container-id-2 div.sk-parallel-item:last-child::after {align-self: flex-start;width: 50%;}#sk-container-id-2 div.sk-parallel-item:only-child::after {width: 0;}#sk-container-id-2 div.sk-dashed-wrapped {border: 1px dashed gray;margin: 0 0.4em 0.5em 0.4em;box-sizing: border-box;padding-bottom: 0.4em;background-color: white;}#sk-container-id-2 div.sk-label label {font-family: monospace;font-weight: bold;display: inline-block;line-height: 1.2em;}#sk-container-id-2 div.sk-label-container {text-align: center;}#sk-container-id-2 div.sk-container {/* jupyter's `normalize.less` sets `[hidden] { display: none; }` but bootstrap.min.css set `[hidden] { display: none !important; }` so we also need the `!important` here to be able to override the default hidden behavior on the sphinx rendered scikit-learn.org. See: https://github.com/scikit-learn/scikit-learn/issues/21755 */display: inline-block !important;position: relative;}#sk-container-id-2 div.sk-text-repr-fallback {display: none;}</style><div id=\"sk-container-id-2\" class=\"sk-top-container\"><div class=\"sk-text-repr-fallback\"><pre>RandomForestRegressor(n_estimators=200, n_jobs=-1)</pre><b>In a Jupyter environment, please rerun this cell to show the HTML representation or trust the notebook. <br />On GitHub, the HTML representation is unable to render, please try loading this page with nbviewer.org.</b></div><div class=\"sk-container\" hidden><div class=\"sk-item\"><div class=\"sk-estimator sk-toggleable\"><input class=\"sk-toggleable__control sk-hidden--visually\" id=\"sk-estimator-id-2\" type=\"checkbox\" checked><label for=\"sk-estimator-id-2\" class=\"sk-toggleable__label sk-toggleable__label-arrow\">RandomForestRegressor</label><div class=\"sk-toggleable__content\"><pre>RandomForestRegressor(n_estimators=200, n_jobs=-1)</pre></div></div></div></div></div>"
      ],
      "text/plain": [
       "RandomForestRegressor(n_estimators=200, n_jobs=-1)"
      ]
     },
     "execution_count": 9,
     "metadata": {},
     "output_type": "execute_result"
    }
   ],
   "source": [
    "model.fit(X, y.values.ravel())"
   ]
  },
  {
   "cell_type": "code",
   "execution_count": 10,
   "id": "b556b3b1",
   "metadata": {},
   "outputs": [],
   "source": [
    "predictions = model.predict(X_test)"
   ]
  },
  {
   "cell_type": "code",
   "execution_count": 11,
   "id": "b1aa2aeb",
   "metadata": {},
   "outputs": [
    {
     "data": {
      "text/plain": [
       "(1459,)"
      ]
     },
     "execution_count": 11,
     "metadata": {},
     "output_type": "execute_result"
    }
   ],
   "source": [
    "sub = pd.Series(predictions, index=X_test['Id'], name='SalePrice')\n",
    "sub.shape"
   ]
  },
  {
   "cell_type": "code",
   "execution_count": 12,
   "id": "13979b03",
   "metadata": {},
   "outputs": [],
   "source": [
    "sub.to_csv(\"Teste_RandomForest.csv\", header=True)"
   ]
  },
  {
   "cell_type": "markdown",
   "id": "7c658d23",
   "metadata": {},
   "source": [
    "# XGBoost model"
   ]
  },
  {
   "cell_type": "markdown",
   "id": "9f5772d3",
   "metadata": {},
   "source": [
    "Now we will try the XGBoost regressor model, that is a robust model that doen't require feature slection or scaling. For a quick result let's first a train and validation sets obtained by train_test_split."
   ]
  },
  {
   "cell_type": "code",
   "execution_count": 13,
   "id": "2f10d7a5",
   "metadata": {},
   "outputs": [
    {
     "name": "stdout",
     "output_type": "stream",
     "text": [
      "The accuracy of our model is 84.0%\n",
      "Square Root of Mean Squared Error (MSE): 32774.91089271422\n"
     ]
    }
   ],
   "source": [
    "model2 = XGBRegressor(random_state=0,\n",
    "                     learning_rate = 0.20,\n",
    "                     n_estimators=800,\n",
    "                     max_depth=2,\n",
    "                     min_child_weight=4,\n",
    "                     #colsample_bynode=1\n",
    "                     #subsample=0.75\n",
    "                     #num_parallel_tree=9\n",
    "                     objective='reg:squarederror'\n",
    "                     )\n",
    "model2.fit(X_train, y_train)\n",
    "predictions = model2.predict(X_valid)\n",
    "\n",
    "from sklearn.metrics import r2_score\n",
    "score2 = r2_score(y_valid, predictions)\n",
    "print(\"The accuracy of our model is {}%\".format(round(score2, 2) *100))\n",
    "from sklearn import metrics\n",
    "print('Square Root of Mean Squared Error (MSE):', metrics.mean_squared_error(y_valid, predictions)**0.5)"
   ]
  },
  {
   "cell_type": "markdown",
   "id": "c21754f3",
   "metadata": {},
   "source": [
    "## Cross validation analises for XGBust model"
   ]
  },
  {
   "cell_type": "markdown",
   "id": "2695e4a0",
   "metadata": {},
   "source": [
    "When we use the train_test_split(), we split our data in just one way. Therefore the result will be influenced by this choice. In order to correct this problem, we will use the kfold method that will generate diferent trains and test sets.\n",
    "\n",
    "Furthermore, in order to optimize our model, we use a randomized search to estimate the best parameters."
   ]
  },
  {
   "cell_type": "code",
   "execution_count": 14,
   "id": "49ee2350",
   "metadata": {},
   "outputs": [
    {
     "data": {
      "text/html": [
       "<div>\n",
       "<style scoped>\n",
       "    .dataframe tbody tr th:only-of-type {\n",
       "        vertical-align: middle;\n",
       "    }\n",
       "\n",
       "    .dataframe tbody tr th {\n",
       "        vertical-align: top;\n",
       "    }\n",
       "\n",
       "    .dataframe thead th {\n",
       "        text-align: right;\n",
       "    }\n",
       "</style>\n",
       "<table border=\"1\" class=\"dataframe\">\n",
       "  <thead>\n",
       "    <tr style=\"text-align: right;\">\n",
       "      <th></th>\n",
       "      <th>mean_fit_time</th>\n",
       "      <th>std_fit_time</th>\n",
       "      <th>mean_score_time</th>\n",
       "      <th>std_score_time</th>\n",
       "      <th>param_n_estimators</th>\n",
       "      <th>param_min_child_weight</th>\n",
       "      <th>param_max_depth</th>\n",
       "      <th>param_learning_rate</th>\n",
       "      <th>params</th>\n",
       "      <th>split0_test_score</th>\n",
       "      <th>...</th>\n",
       "      <th>split3_test_score</th>\n",
       "      <th>split4_test_score</th>\n",
       "      <th>split5_test_score</th>\n",
       "      <th>split6_test_score</th>\n",
       "      <th>split7_test_score</th>\n",
       "      <th>split8_test_score</th>\n",
       "      <th>split9_test_score</th>\n",
       "      <th>mean_test_score</th>\n",
       "      <th>std_test_score</th>\n",
       "      <th>rank_test_score</th>\n",
       "    </tr>\n",
       "  </thead>\n",
       "  <tbody>\n",
       "    <tr>\n",
       "      <th>0</th>\n",
       "      <td>1.163052</td>\n",
       "      <td>0.133422</td>\n",
       "      <td>0.015923</td>\n",
       "      <td>0.003924</td>\n",
       "      <td>400</td>\n",
       "      <td>4</td>\n",
       "      <td>4</td>\n",
       "      <td>0.1</td>\n",
       "      <td>{'n_estimators': 400, 'min_child_weight': 4, '...</td>\n",
       "      <td>0.842831</td>\n",
       "      <td>...</td>\n",
       "      <td>0.909502</td>\n",
       "      <td>0.746220</td>\n",
       "      <td>0.922053</td>\n",
       "      <td>0.913220</td>\n",
       "      <td>0.897265</td>\n",
       "      <td>0.893884</td>\n",
       "      <td>0.900577</td>\n",
       "      <td>0.874103</td>\n",
       "      <td>0.054425</td>\n",
       "      <td>1</td>\n",
       "    </tr>\n",
       "    <tr>\n",
       "      <th>1</th>\n",
       "      <td>0.769298</td>\n",
       "      <td>0.082086</td>\n",
       "      <td>0.015345</td>\n",
       "      <td>0.002356</td>\n",
       "      <td>100</td>\n",
       "      <td>16</td>\n",
       "      <td>8</td>\n",
       "      <td>0.01</td>\n",
       "      <td>{'n_estimators': 100, 'min_child_weight': 16, ...</td>\n",
       "      <td>0.677934</td>\n",
       "      <td>...</td>\n",
       "      <td>0.731954</td>\n",
       "      <td>0.683863</td>\n",
       "      <td>0.738298</td>\n",
       "      <td>0.698984</td>\n",
       "      <td>0.662822</td>\n",
       "      <td>0.704534</td>\n",
       "      <td>0.717376</td>\n",
       "      <td>0.706028</td>\n",
       "      <td>0.028204</td>\n",
       "      <td>14</td>\n",
       "    </tr>\n",
       "    <tr>\n",
       "      <th>2</th>\n",
       "      <td>2.811425</td>\n",
       "      <td>0.255358</td>\n",
       "      <td>0.017312</td>\n",
       "      <td>0.000508</td>\n",
       "      <td>400</td>\n",
       "      <td>32</td>\n",
       "      <td>32</td>\n",
       "      <td>0.2</td>\n",
       "      <td>{'n_estimators': 400, 'min_child_weight': 32, ...</td>\n",
       "      <td>0.826064</td>\n",
       "      <td>...</td>\n",
       "      <td>0.885420</td>\n",
       "      <td>0.767914</td>\n",
       "      <td>0.885236</td>\n",
       "      <td>0.885132</td>\n",
       "      <td>0.900140</td>\n",
       "      <td>0.860625</td>\n",
       "      <td>0.870948</td>\n",
       "      <td>0.859266</td>\n",
       "      <td>0.038163</td>\n",
       "      <td>6</td>\n",
       "    </tr>\n",
       "    <tr>\n",
       "      <th>3</th>\n",
       "      <td>1.660806</td>\n",
       "      <td>0.164682</td>\n",
       "      <td>0.016202</td>\n",
       "      <td>0.002833</td>\n",
       "      <td>800</td>\n",
       "      <td>8</td>\n",
       "      <td>2</td>\n",
       "      <td>0.4</td>\n",
       "      <td>{'n_estimators': 800, 'min_child_weight': 8, '...</td>\n",
       "      <td>0.840929</td>\n",
       "      <td>...</td>\n",
       "      <td>0.905594</td>\n",
       "      <td>0.751263</td>\n",
       "      <td>0.892737</td>\n",
       "      <td>0.906858</td>\n",
       "      <td>0.901477</td>\n",
       "      <td>0.865407</td>\n",
       "      <td>0.875590</td>\n",
       "      <td>0.865715</td>\n",
       "      <td>0.044770</td>\n",
       "      <td>5</td>\n",
       "    </tr>\n",
       "    <tr>\n",
       "      <th>4</th>\n",
       "      <td>5.354753</td>\n",
       "      <td>0.862188</td>\n",
       "      <td>0.020411</td>\n",
       "      <td>0.006902</td>\n",
       "      <td>800</td>\n",
       "      <td>4</td>\n",
       "      <td>8</td>\n",
       "      <td>0.2</td>\n",
       "      <td>{'n_estimators': 800, 'min_child_weight': 4, '...</td>\n",
       "      <td>0.832811</td>\n",
       "      <td>...</td>\n",
       "      <td>0.865989</td>\n",
       "      <td>0.808525</td>\n",
       "      <td>0.867671</td>\n",
       "      <td>0.861132</td>\n",
       "      <td>0.893028</td>\n",
       "      <td>0.887432</td>\n",
       "      <td>0.897180</td>\n",
       "      <td>0.855499</td>\n",
       "      <td>0.039750</td>\n",
       "      <td>7</td>\n",
       "    </tr>\n",
       "  </tbody>\n",
       "</table>\n",
       "<p>5 rows × 22 columns</p>\n",
       "</div>"
      ],
      "text/plain": [
       "   mean_fit_time  std_fit_time  mean_score_time  std_score_time  \\\n",
       "0       1.163052      0.133422         0.015923        0.003924   \n",
       "1       0.769298      0.082086         0.015345        0.002356   \n",
       "2       2.811425      0.255358         0.017312        0.000508   \n",
       "3       1.660806      0.164682         0.016202        0.002833   \n",
       "4       5.354753      0.862188         0.020411        0.006902   \n",
       "\n",
       "  param_n_estimators param_min_child_weight param_max_depth  \\\n",
       "0                400                      4               4   \n",
       "1                100                     16               8   \n",
       "2                400                     32              32   \n",
       "3                800                      8               2   \n",
       "4                800                      4               8   \n",
       "\n",
       "  param_learning_rate                                             params  \\\n",
       "0                 0.1  {'n_estimators': 400, 'min_child_weight': 4, '...   \n",
       "1                0.01  {'n_estimators': 100, 'min_child_weight': 16, ...   \n",
       "2                 0.2  {'n_estimators': 400, 'min_child_weight': 32, ...   \n",
       "3                 0.4  {'n_estimators': 800, 'min_child_weight': 8, '...   \n",
       "4                 0.2  {'n_estimators': 800, 'min_child_weight': 4, '...   \n",
       "\n",
       "   split0_test_score  ...  split3_test_score  split4_test_score  \\\n",
       "0           0.842831  ...           0.909502           0.746220   \n",
       "1           0.677934  ...           0.731954           0.683863   \n",
       "2           0.826064  ...           0.885420           0.767914   \n",
       "3           0.840929  ...           0.905594           0.751263   \n",
       "4           0.832811  ...           0.865989           0.808525   \n",
       "\n",
       "   split5_test_score  split6_test_score  split7_test_score  split8_test_score  \\\n",
       "0           0.922053           0.913220           0.897265           0.893884   \n",
       "1           0.738298           0.698984           0.662822           0.704534   \n",
       "2           0.885236           0.885132           0.900140           0.860625   \n",
       "3           0.892737           0.906858           0.901477           0.865407   \n",
       "4           0.867671           0.861132           0.893028           0.887432   \n",
       "\n",
       "   split9_test_score  mean_test_score  std_test_score  rank_test_score  \n",
       "0           0.900577         0.874103        0.054425                1  \n",
       "1           0.717376         0.706028        0.028204               14  \n",
       "2           0.870948         0.859266        0.038163                6  \n",
       "3           0.875590         0.865715        0.044770                5  \n",
       "4           0.897180         0.855499        0.039750                7  \n",
       "\n",
       "[5 rows x 22 columns]"
      ]
     },
     "execution_count": 14,
     "metadata": {},
     "output_type": "execute_result"
    }
   ],
   "source": [
    "SEED =0\n",
    "np.random.seed(SEED)\n",
    "\n",
    "model2 = XGBRegressor()\n",
    "\n",
    "# Define the grid of hyperparameters to search\n",
    "espaço_de_parametros = {'learning_rate': [0.01, 0.1, 0.2, 0.4, 1],\n",
    "                        'n_estimators': [100, 400, 800],\n",
    "                        'max_depth': [1, 2, 4, 8, 16, 32],\n",
    "                        'min_child_weight': [1, 4, 8, 16, 32]\n",
    "                        }\n",
    "\n",
    "# Set up the random search\n",
    "busca2 = RandomizedSearchCV(estimator=model2,\n",
    "                    param_distributions=espaço_de_parametros,\n",
    "                    cv=KFold(n_splits=10, shuffle = True),\n",
    "                    n_iter=16,\n",
    "                    random_state=SEED)\n",
    "busca2.fit(X,y)\n",
    "resultados2=pd.DataFrame(busca2.cv_results_)\n",
    "resultados2.head()"
   ]
  },
  {
   "cell_type": "markdown",
   "id": "ab88bc86",
   "metadata": {},
   "source": [
    "After the search we select the best parameters for our model."
   ]
  },
  {
   "cell_type": "code",
   "execution_count": 15,
   "id": "dcb40e79",
   "metadata": {},
   "outputs": [
    {
     "data": {
      "text/html": [
       "<style>#sk-container-id-3 {color: black;}#sk-container-id-3 pre{padding: 0;}#sk-container-id-3 div.sk-toggleable {background-color: white;}#sk-container-id-3 label.sk-toggleable__label {cursor: pointer;display: block;width: 100%;margin-bottom: 0;padding: 0.3em;box-sizing: border-box;text-align: center;}#sk-container-id-3 label.sk-toggleable__label-arrow:before {content: \"▸\";float: left;margin-right: 0.25em;color: #696969;}#sk-container-id-3 label.sk-toggleable__label-arrow:hover:before {color: black;}#sk-container-id-3 div.sk-estimator:hover label.sk-toggleable__label-arrow:before {color: black;}#sk-container-id-3 div.sk-toggleable__content {max-height: 0;max-width: 0;overflow: hidden;text-align: left;background-color: #f0f8ff;}#sk-container-id-3 div.sk-toggleable__content pre {margin: 0.2em;color: black;border-radius: 0.25em;background-color: #f0f8ff;}#sk-container-id-3 input.sk-toggleable__control:checked~div.sk-toggleable__content {max-height: 200px;max-width: 100%;overflow: auto;}#sk-container-id-3 input.sk-toggleable__control:checked~label.sk-toggleable__label-arrow:before {content: \"▾\";}#sk-container-id-3 div.sk-estimator input.sk-toggleable__control:checked~label.sk-toggleable__label {background-color: #d4ebff;}#sk-container-id-3 div.sk-label input.sk-toggleable__control:checked~label.sk-toggleable__label {background-color: #d4ebff;}#sk-container-id-3 input.sk-hidden--visually {border: 0;clip: rect(1px 1px 1px 1px);clip: rect(1px, 1px, 1px, 1px);height: 1px;margin: -1px;overflow: hidden;padding: 0;position: absolute;width: 1px;}#sk-container-id-3 div.sk-estimator {font-family: monospace;background-color: #f0f8ff;border: 1px dotted black;border-radius: 0.25em;box-sizing: border-box;margin-bottom: 0.5em;}#sk-container-id-3 div.sk-estimator:hover {background-color: #d4ebff;}#sk-container-id-3 div.sk-parallel-item::after {content: \"\";width: 100%;border-bottom: 1px solid gray;flex-grow: 1;}#sk-container-id-3 div.sk-label:hover label.sk-toggleable__label {background-color: #d4ebff;}#sk-container-id-3 div.sk-serial::before {content: \"\";position: absolute;border-left: 1px solid gray;box-sizing: border-box;top: 0;bottom: 0;left: 50%;z-index: 0;}#sk-container-id-3 div.sk-serial {display: flex;flex-direction: column;align-items: center;background-color: white;padding-right: 0.2em;padding-left: 0.2em;position: relative;}#sk-container-id-3 div.sk-item {position: relative;z-index: 1;}#sk-container-id-3 div.sk-parallel {display: flex;align-items: stretch;justify-content: center;background-color: white;position: relative;}#sk-container-id-3 div.sk-item::before, #sk-container-id-3 div.sk-parallel-item::before {content: \"\";position: absolute;border-left: 1px solid gray;box-sizing: border-box;top: 0;bottom: 0;left: 50%;z-index: -1;}#sk-container-id-3 div.sk-parallel-item {display: flex;flex-direction: column;z-index: 1;position: relative;background-color: white;}#sk-container-id-3 div.sk-parallel-item:first-child::after {align-self: flex-end;width: 50%;}#sk-container-id-3 div.sk-parallel-item:last-child::after {align-self: flex-start;width: 50%;}#sk-container-id-3 div.sk-parallel-item:only-child::after {width: 0;}#sk-container-id-3 div.sk-dashed-wrapped {border: 1px dashed gray;margin: 0 0.4em 0.5em 0.4em;box-sizing: border-box;padding-bottom: 0.4em;background-color: white;}#sk-container-id-3 div.sk-label label {font-family: monospace;font-weight: bold;display: inline-block;line-height: 1.2em;}#sk-container-id-3 div.sk-label-container {text-align: center;}#sk-container-id-3 div.sk-container {/* jupyter's `normalize.less` sets `[hidden] { display: none; }` but bootstrap.min.css set `[hidden] { display: none !important; }` so we also need the `!important` here to be able to override the default hidden behavior on the sphinx rendered scikit-learn.org. See: https://github.com/scikit-learn/scikit-learn/issues/21755 */display: inline-block !important;position: relative;}#sk-container-id-3 div.sk-text-repr-fallback {display: none;}</style><div id=\"sk-container-id-3\" class=\"sk-top-container\"><div class=\"sk-text-repr-fallback\"><pre>XGBRegressor(base_score=None, booster=None, callbacks=None,\n",
       "             colsample_bylevel=None, colsample_bynode=None,\n",
       "             colsample_bytree=None, device=None, early_stopping_rounds=None,\n",
       "             enable_categorical=False, eval_metric=None, feature_types=None,\n",
       "             gamma=None, grow_policy=None, importance_type=None,\n",
       "             interaction_constraints=None, learning_rate=0.1, max_bin=None,\n",
       "             max_cat_threshold=None, max_cat_to_onehot=None,\n",
       "             max_delta_step=None, max_depth=4, max_leaves=None,\n",
       "             min_child_weight=4, missing=nan, monotone_constraints=None,\n",
       "             multi_strategy=None, n_estimators=400, n_jobs=None,\n",
       "             num_parallel_tree=None, random_state=None, ...)</pre><b>In a Jupyter environment, please rerun this cell to show the HTML representation or trust the notebook. <br />On GitHub, the HTML representation is unable to render, please try loading this page with nbviewer.org.</b></div><div class=\"sk-container\" hidden><div class=\"sk-item\"><div class=\"sk-estimator sk-toggleable\"><input class=\"sk-toggleable__control sk-hidden--visually\" id=\"sk-estimator-id-3\" type=\"checkbox\" checked><label for=\"sk-estimator-id-3\" class=\"sk-toggleable__label sk-toggleable__label-arrow\">XGBRegressor</label><div class=\"sk-toggleable__content\"><pre>XGBRegressor(base_score=None, booster=None, callbacks=None,\n",
       "             colsample_bylevel=None, colsample_bynode=None,\n",
       "             colsample_bytree=None, device=None, early_stopping_rounds=None,\n",
       "             enable_categorical=False, eval_metric=None, feature_types=None,\n",
       "             gamma=None, grow_policy=None, importance_type=None,\n",
       "             interaction_constraints=None, learning_rate=0.1, max_bin=None,\n",
       "             max_cat_threshold=None, max_cat_to_onehot=None,\n",
       "             max_delta_step=None, max_depth=4, max_leaves=None,\n",
       "             min_child_weight=4, missing=nan, monotone_constraints=None,\n",
       "             multi_strategy=None, n_estimators=400, n_jobs=None,\n",
       "             num_parallel_tree=None, random_state=None, ...)</pre></div></div></div></div></div>"
      ],
      "text/plain": [
       "XGBRegressor(base_score=None, booster=None, callbacks=None,\n",
       "             colsample_bylevel=None, colsample_bynode=None,\n",
       "             colsample_bytree=None, device=None, early_stopping_rounds=None,\n",
       "             enable_categorical=False, eval_metric=None, feature_types=None,\n",
       "             gamma=None, grow_policy=None, importance_type=None,\n",
       "             interaction_constraints=None, learning_rate=0.1, max_bin=None,\n",
       "             max_cat_threshold=None, max_cat_to_onehot=None,\n",
       "             max_delta_step=None, max_depth=4, max_leaves=None,\n",
       "             min_child_weight=4, missing=nan, monotone_constraints=None,\n",
       "             multi_strategy=None, n_estimators=400, n_jobs=None,\n",
       "             num_parallel_tree=None, random_state=None, ...)"
      ]
     },
     "execution_count": 15,
     "metadata": {},
     "output_type": "execute_result"
    }
   ],
   "source": [
    "melhor = busca2.best_estimator_\n",
    "melhor"
   ]
  },
  {
   "cell_type": "markdown",
   "id": "777a4d71",
   "metadata": {},
   "source": [
    "We aply the function imprime_results to see the mean, maximum and minimum performance of the best estimator."
   ]
  },
  {
   "cell_type": "code",
   "execution_count": 16,
   "id": "502ef9b3",
   "metadata": {},
   "outputs": [
    {
     "name": "stdout",
     "output_type": "stream",
     "text": [
      "Accuracy médio 83.63\n",
      "Intervalo [37.48, 93.84]\n"
     ]
    }
   ],
   "source": [
    "model2 = XGBRegressor(random_state=0,\n",
    "                     learning_rate = 0.1,\n",
    "                     n_estimators=800,\n",
    "                     max_depth=4,\n",
    "                     min_child_weight=32\n",
    "                     )\n",
    "\n",
    "\n",
    "cv = KFold(n_splits=10, shuffle = True)\n",
    "results2 = cross_validate(model2, X, y, cv = cv)\n",
    "imprime_resultados(results2)"
   ]
  },
  {
   "cell_type": "markdown",
   "id": "753becbd",
   "metadata": {},
   "source": [
    "# Teste do XGBoost"
   ]
  },
  {
   "cell_type": "markdown",
   "id": "f1077fbb",
   "metadata": {},
   "source": [
    "Here we retrain our best model with the full dataset since more data tends to improve the model. \n",
    "\n",
    "Then, we use this model to estimate the prices of the houses in the test set. \n",
    "\n",
    "By submiting this results to the kaggle site and get the position 1133 from a total of 3975. "
   ]
  },
  {
   "cell_type": "code",
   "execution_count": 17,
   "id": "66fe4e45",
   "metadata": {},
   "outputs": [
    {
     "data": {
      "text/html": [
       "<style>#sk-container-id-4 {color: black;}#sk-container-id-4 pre{padding: 0;}#sk-container-id-4 div.sk-toggleable {background-color: white;}#sk-container-id-4 label.sk-toggleable__label {cursor: pointer;display: block;width: 100%;margin-bottom: 0;padding: 0.3em;box-sizing: border-box;text-align: center;}#sk-container-id-4 label.sk-toggleable__label-arrow:before {content: \"▸\";float: left;margin-right: 0.25em;color: #696969;}#sk-container-id-4 label.sk-toggleable__label-arrow:hover:before {color: black;}#sk-container-id-4 div.sk-estimator:hover label.sk-toggleable__label-arrow:before {color: black;}#sk-container-id-4 div.sk-toggleable__content {max-height: 0;max-width: 0;overflow: hidden;text-align: left;background-color: #f0f8ff;}#sk-container-id-4 div.sk-toggleable__content pre {margin: 0.2em;color: black;border-radius: 0.25em;background-color: #f0f8ff;}#sk-container-id-4 input.sk-toggleable__control:checked~div.sk-toggleable__content {max-height: 200px;max-width: 100%;overflow: auto;}#sk-container-id-4 input.sk-toggleable__control:checked~label.sk-toggleable__label-arrow:before {content: \"▾\";}#sk-container-id-4 div.sk-estimator input.sk-toggleable__control:checked~label.sk-toggleable__label {background-color: #d4ebff;}#sk-container-id-4 div.sk-label input.sk-toggleable__control:checked~label.sk-toggleable__label {background-color: #d4ebff;}#sk-container-id-4 input.sk-hidden--visually {border: 0;clip: rect(1px 1px 1px 1px);clip: rect(1px, 1px, 1px, 1px);height: 1px;margin: -1px;overflow: hidden;padding: 0;position: absolute;width: 1px;}#sk-container-id-4 div.sk-estimator {font-family: monospace;background-color: #f0f8ff;border: 1px dotted black;border-radius: 0.25em;box-sizing: border-box;margin-bottom: 0.5em;}#sk-container-id-4 div.sk-estimator:hover {background-color: #d4ebff;}#sk-container-id-4 div.sk-parallel-item::after {content: \"\";width: 100%;border-bottom: 1px solid gray;flex-grow: 1;}#sk-container-id-4 div.sk-label:hover label.sk-toggleable__label {background-color: #d4ebff;}#sk-container-id-4 div.sk-serial::before {content: \"\";position: absolute;border-left: 1px solid gray;box-sizing: border-box;top: 0;bottom: 0;left: 50%;z-index: 0;}#sk-container-id-4 div.sk-serial {display: flex;flex-direction: column;align-items: center;background-color: white;padding-right: 0.2em;padding-left: 0.2em;position: relative;}#sk-container-id-4 div.sk-item {position: relative;z-index: 1;}#sk-container-id-4 div.sk-parallel {display: flex;align-items: stretch;justify-content: center;background-color: white;position: relative;}#sk-container-id-4 div.sk-item::before, #sk-container-id-4 div.sk-parallel-item::before {content: \"\";position: absolute;border-left: 1px solid gray;box-sizing: border-box;top: 0;bottom: 0;left: 50%;z-index: -1;}#sk-container-id-4 div.sk-parallel-item {display: flex;flex-direction: column;z-index: 1;position: relative;background-color: white;}#sk-container-id-4 div.sk-parallel-item:first-child::after {align-self: flex-end;width: 50%;}#sk-container-id-4 div.sk-parallel-item:last-child::after {align-self: flex-start;width: 50%;}#sk-container-id-4 div.sk-parallel-item:only-child::after {width: 0;}#sk-container-id-4 div.sk-dashed-wrapped {border: 1px dashed gray;margin: 0 0.4em 0.5em 0.4em;box-sizing: border-box;padding-bottom: 0.4em;background-color: white;}#sk-container-id-4 div.sk-label label {font-family: monospace;font-weight: bold;display: inline-block;line-height: 1.2em;}#sk-container-id-4 div.sk-label-container {text-align: center;}#sk-container-id-4 div.sk-container {/* jupyter's `normalize.less` sets `[hidden] { display: none; }` but bootstrap.min.css set `[hidden] { display: none !important; }` so we also need the `!important` here to be able to override the default hidden behavior on the sphinx rendered scikit-learn.org. See: https://github.com/scikit-learn/scikit-learn/issues/21755 */display: inline-block !important;position: relative;}#sk-container-id-4 div.sk-text-repr-fallback {display: none;}</style><div id=\"sk-container-id-4\" class=\"sk-top-container\"><div class=\"sk-text-repr-fallback\"><pre>XGBRegressor(base_score=None, booster=None, callbacks=None,\n",
       "             colsample_bylevel=None, colsample_bynode=None,\n",
       "             colsample_bytree=None, device=None, early_stopping_rounds=None,\n",
       "             enable_categorical=False, eval_metric=None, feature_types=None,\n",
       "             gamma=None, grow_policy=None, importance_type=None,\n",
       "             interaction_constraints=None, learning_rate=0.1, max_bin=None,\n",
       "             max_cat_threshold=None, max_cat_to_onehot=None,\n",
       "             max_delta_step=None, max_depth=4, max_leaves=None,\n",
       "             min_child_weight=32, missing=nan, monotone_constraints=None,\n",
       "             multi_strategy=None, n_estimators=800, n_jobs=None,\n",
       "             num_parallel_tree=None, random_state=0, ...)</pre><b>In a Jupyter environment, please rerun this cell to show the HTML representation or trust the notebook. <br />On GitHub, the HTML representation is unable to render, please try loading this page with nbviewer.org.</b></div><div class=\"sk-container\" hidden><div class=\"sk-item\"><div class=\"sk-estimator sk-toggleable\"><input class=\"sk-toggleable__control sk-hidden--visually\" id=\"sk-estimator-id-4\" type=\"checkbox\" checked><label for=\"sk-estimator-id-4\" class=\"sk-toggleable__label sk-toggleable__label-arrow\">XGBRegressor</label><div class=\"sk-toggleable__content\"><pre>XGBRegressor(base_score=None, booster=None, callbacks=None,\n",
       "             colsample_bylevel=None, colsample_bynode=None,\n",
       "             colsample_bytree=None, device=None, early_stopping_rounds=None,\n",
       "             enable_categorical=False, eval_metric=None, feature_types=None,\n",
       "             gamma=None, grow_policy=None, importance_type=None,\n",
       "             interaction_constraints=None, learning_rate=0.1, max_bin=None,\n",
       "             max_cat_threshold=None, max_cat_to_onehot=None,\n",
       "             max_delta_step=None, max_depth=4, max_leaves=None,\n",
       "             min_child_weight=32, missing=nan, monotone_constraints=None,\n",
       "             multi_strategy=None, n_estimators=800, n_jobs=None,\n",
       "             num_parallel_tree=None, random_state=0, ...)</pre></div></div></div></div></div>"
      ],
      "text/plain": [
       "XGBRegressor(base_score=None, booster=None, callbacks=None,\n",
       "             colsample_bylevel=None, colsample_bynode=None,\n",
       "             colsample_bytree=None, device=None, early_stopping_rounds=None,\n",
       "             enable_categorical=False, eval_metric=None, feature_types=None,\n",
       "             gamma=None, grow_policy=None, importance_type=None,\n",
       "             interaction_constraints=None, learning_rate=0.1, max_bin=None,\n",
       "             max_cat_threshold=None, max_cat_to_onehot=None,\n",
       "             max_delta_step=None, max_depth=4, max_leaves=None,\n",
       "             min_child_weight=32, missing=nan, monotone_constraints=None,\n",
       "             multi_strategy=None, n_estimators=800, n_jobs=None,\n",
       "             num_parallel_tree=None, random_state=0, ...)"
      ]
     },
     "execution_count": 17,
     "metadata": {},
     "output_type": "execute_result"
    }
   ],
   "source": [
    "model2.fit(X, y)"
   ]
  },
  {
   "cell_type": "code",
   "execution_count": 18,
   "id": "c280e4c8",
   "metadata": {},
   "outputs": [],
   "source": [
    "predictions2 = model2.predict(X_test)"
   ]
  },
  {
   "cell_type": "code",
   "execution_count": 19,
   "id": "d73ce037",
   "metadata": {},
   "outputs": [
    {
     "data": {
      "text/plain": [
       "(1459,)"
      ]
     },
     "execution_count": 19,
     "metadata": {},
     "output_type": "execute_result"
    }
   ],
   "source": [
    "sub2 = pd.Series(predictions2, index=X_test['Id'], name='SalePrice')\n",
    "sub2.shape"
   ]
  },
  {
   "cell_type": "code",
   "execution_count": 20,
   "id": "6360b43c",
   "metadata": {},
   "outputs": [],
   "source": [
    "sub2.to_csv(\"Teste_XGBoost.csv\", header=True)"
   ]
  },
  {
   "cell_type": "markdown",
   "id": "8518a421",
   "metadata": {},
   "source": [
    "# Conclusions"
   ]
  },
  {
   "cell_type": "markdown",
   "id": "651afec0",
   "metadata": {},
   "source": [
    "We tested two difererent models: Random Forest and XGBoost. For the Random Forest, the mean accuracy is 84.10% and interval is [66.22%, 90.76%] for the validation set. For XGBoost, the mean accuracy 83.63%, and interval is [37.48, 93.84] for the validation set. It seens that Random Forest has a slightly better mean value and is more stable, althogh in the test set, the XGBoost performs better than the Random Forest."
   ]
  },
  {
   "cell_type": "code",
   "execution_count": null,
   "id": "59d7b36e",
   "metadata": {},
   "outputs": [],
   "source": []
  }
 ],
 "metadata": {
  "kernelspec": {
   "display_name": "Python 3 (ipykernel)",
   "language": "python",
   "name": "python3"
  },
  "language_info": {
   "codemirror_mode": {
    "name": "ipython",
    "version": 3
   },
   "file_extension": ".py",
   "mimetype": "text/x-python",
   "name": "python",
   "nbconvert_exporter": "python",
   "pygments_lexer": "ipython3",
   "version": "3.11.4"
  }
 },
 "nbformat": 4,
 "nbformat_minor": 5
}
